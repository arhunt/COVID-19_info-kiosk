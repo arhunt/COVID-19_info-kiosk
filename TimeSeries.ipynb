{
 "cells": [
  {
   "cell_type": "markdown",
   "metadata": {},
   "source": [
    "# Importing and Inspecting the Data"
   ]
  },
  {
   "cell_type": "code",
   "execution_count": null,
   "metadata": {},
   "outputs": [],
   "source": [
    "# import depedencies\n",
    "import requests as req\n",
    "import pandas as pd\n",
    "import datetime as dt\n",
    "import matplotlib.pyplot as plt\n",
    "import json"
   ]
  },
  {
   "cell_type": "code",
   "execution_count": null,
   "metadata": {},
   "outputs": [],
   "source": [
    "url_covid = 'https://api.covidtracking.com/v1/states/daily.json'\n",
    "# url_usa_population = 'https://datausa.io/api/data?drilldowns=Nation&measures=Population&year=latest'\n",
    "url_state_population = 'https://datausa.io/api/data?drilldowns=State&measures=Population&year=latest'"
   ]
  },
  {
   "cell_type": "code",
   "execution_count": null,
   "metadata": {},
   "outputs": [],
   "source": [
    "# retrieving API and storing data in variables\n",
    "covid_js = req.get(url_covid).json()\n",
    "# usa_pop_js = req.get(url_usa_population).json()\n",
    "state_pop_js = req.get(url_state_population).json()\n",
    "print(json.dumps(state_pop_js['data'], indent=4, sort_keys=True))"
   ]
  },
  {
   "cell_type": "code",
   "execution_count": null,
   "metadata": {},
   "outputs": [],
   "source": [
    "# converting the data to a dataframe for data manipulation and cleaning\n",
    "covid_all = pd.DataFrame(covid_js)\n",
    "# usa_pop_df = pd.DataFrame(usa_pop_js['data'])\n",
    "state_pop_df = pd.DataFrame(state_pop_js['data'])\n",
    "display(covid_all.head(), state_pop_df.head())"
   ]
  },
  {
   "cell_type": "code",
   "execution_count": null,
   "metadata": {},
   "outputs": [],
   "source": [
    "##### Emilio's Code Start Here #####"
   ]
  },
  {
   "cell_type": "code",
   "execution_count": null,
   "metadata": {},
   "outputs": [],
   "source": [
    "# state_pop_df['Population'].sum()"
   ]
  },
  {
   "cell_type": "code",
   "execution_count": null,
   "metadata": {},
   "outputs": [],
   "source": [
    "state_pop_df['State'].nunique()"
   ]
  },
  {
   "cell_type": "code",
   "execution_count": null,
   "metadata": {},
   "outputs": [],
   "source": [
    "state_pop_df['State'].unique()"
   ]
  },
  {
   "cell_type": "code",
   "execution_count": null,
   "metadata": {},
   "outputs": [],
   "source": [
    "# inspecting data\n",
    "display(covid_all.shape, state_pop_df.shape)"
   ]
  },
  {
   "cell_type": "code",
   "execution_count": null,
   "metadata": {},
   "outputs": [],
   "source": [
    "# inspecting data\n",
    "covid_all.describe()"
   ]
  },
  {
   "cell_type": "code",
   "execution_count": null,
   "metadata": {},
   "outputs": [],
   "source": [
    "# # inspecting data: fields (also by reviewing API documentation)\n",
    "covid_all.columns"
   ]
  },
  {
   "cell_type": "code",
   "execution_count": null,
   "metadata": {},
   "outputs": [],
   "source": [
    "# # inspecting data: data types\n",
    "covid_all.info()"
   ]
  },
  {
   "cell_type": "markdown",
   "metadata": {},
   "source": [
    "# Data Cleaning\n",
    "## covid_df\n",
    "#### Removing the following columns as they don't return required data, as well as deprecated fields reported in the documentation:"
   ]
  },
  {
   "cell_type": "code",
   "execution_count": null,
   "metadata": {},
   "outputs": [],
   "source": [
    "# list of fields: all, not-required, and deprecated fields\n",
    "all_fields = ['date', 'state', 'positive', 'probableCases', 'negative', 'pending',\n",
    "       'totalTestResults', 'hospitalizedCurrently', 'hospitalizedCumulative',\n",
    "       'inIcuCurrently', 'inIcuCumulative', 'onVentilatorCurrently',\n",
    "       'onVentilatorCumulative', 'recovered', 'dataQualityGrade',\n",
    "       'lastUpdateEt', 'dateModified', 'checkTimeEt', 'death', 'hospitalized',\n",
    "       'dateChecked', 'totalTestsViral', 'positiveTestsViral',\n",
    "       'negativeTestsViral', 'positiveCasesViral', 'deathConfirmed',\n",
    "       'deathProbable', 'totalTestEncountersViral', 'totalTestsPeopleViral',\n",
    "       'totalTestsAntibody', 'positiveTestsAntibody', 'negativeTestsAntibody',\n",
    "       'totalTestsPeopleAntibody', 'positiveTestsPeopleAntibody',\n",
    "       'negativeTestsPeopleAntibody', 'totalTestsPeopleAntigen',\n",
    "       'positiveTestsPeopleAntigen', 'totalTestsAntigen',\n",
    "       'positiveTestsAntigen', 'fips', 'positiveIncrease', 'negativeIncrease',\n",
    "       'total', 'totalTestResultsSource', 'totalTestResultsIncrease', 'posNeg',\n",
    "       'deathIncrease', 'hospitalizedIncrease', 'hash', 'commercialScore',\n",
    "       'negativeRegularScore', 'negativeScore', 'positiveScore', 'score',\n",
    "       'grade']\n",
    "deprecated_fields = ['checkTimeEt', 'commercialScore', 'dateChecked', 'dateModified', \n",
    "                     'grade', 'hash', 'hospitalized', 'negativeIncrease', \n",
    "                     'negativeRegularScore', 'negativeScore', 'posNeg', 'positiveScore', \n",
    "                     'score', 'total', 'totalTestResultsSource']\n",
    "non_required_fields = ['deathConfirmed', 'deathProbable', 'lastUpdateEt', \n",
    "                       'totalTestsViral', 'positiveTestsViral', 'negativeTestsViral', \n",
    "                       'positiveCasesViral', 'probableCases', 'negative', 'recovered',\n",
    "                       'pending', 'totalTestEncountersViral', 'totalTestsPeopleViral', \n",
    "                       'totalTestsAntibody', 'positiveTestsAntibody', 'negativeTestsAntibody',\n",
    "                       'totalTestsPeopleAntibody', 'positiveTestsPeopleAntibody',\n",
    "                       'negativeTestsPeopleAntibody', 'totalTestsPeopleAntigen', \n",
    "                       'positiveTestsPeopleAntigen','totalTestsAntigen', 'positiveTestsAntigen', \n",
    "                       'totalTestResultsIncrease', 'totalTestResults']"
   ]
  },
  {
   "cell_type": "code",
   "execution_count": null,
   "metadata": {},
   "outputs": [],
   "source": [
    "# removing deprecated and non-required fields to obtain the filtered list\n",
    "filtered_fields = []\n",
    "for i in all_fields:\n",
    "    if i not in deprecated_fields and i not in non_required_fields:\n",
    "        filtered_fields.append(i)\n",
    "filtered_fields"
   ]
  },
  {
   "cell_type": "code",
   "execution_count": null,
   "metadata": {},
   "outputs": [],
   "source": [
    "# new DF with the filtered fields\n",
    "covid_df = covid_all[filtered_fields]\n",
    "covid_df.head() # still think 23 columns is a lot to deal with for the prohect"
   ]
  },
  {
   "cell_type": "code",
   "execution_count": null,
   "metadata": {},
<<<<<<< HEAD
   "outputs": [],
=======
   "outputs": [
    {
     "name": "stderr",
     "output_type": "stream",
     "text": [
      "C:\\Users\\Allan\\anaconda3\\envs\\NewPythonData\\lib\\site-packages\\ipykernel_launcher.py:2: SettingWithCopyWarning: \n",
      "A value is trying to be set on a copy of a slice from a DataFrame.\n",
      "Try using .loc[row_indexer,col_indexer] = value instead\n",
      "\n",
      "See the caveats in the documentation: https://pandas.pydata.org/pandas-docs/stable/user_guide/indexing.html#returning-a-view-versus-a-copy\n",
      "  \n"
     ]
    },
    {
     "data": {
      "text/html": [
       "<div>\n",
       "<style scoped>\n",
       "    .dataframe tbody tr th:only-of-type {\n",
       "        vertical-align: middle;\n",
       "    }\n",
       "\n",
       "    .dataframe tbody tr th {\n",
       "        vertical-align: top;\n",
       "    }\n",
       "\n",
       "    .dataframe thead th {\n",
       "        text-align: right;\n",
       "    }\n",
       "</style>\n",
       "<table border=\"1\" class=\"dataframe\">\n",
       "  <thead>\n",
       "    <tr style=\"text-align: right;\">\n",
       "      <th></th>\n",
       "      <th>date</th>\n",
       "      <th>state</th>\n",
       "      <th>positive</th>\n",
       "      <th>hospitalizedCurrently</th>\n",
       "      <th>hospitalizedCumulative</th>\n",
       "      <th>inIcuCurrently</th>\n",
       "      <th>inIcuCumulative</th>\n",
       "      <th>onVentilatorCurrently</th>\n",
       "      <th>onVentilatorCumulative</th>\n",
       "      <th>dataQualityGrade</th>\n",
       "      <th>death</th>\n",
       "      <th>fips</th>\n",
       "      <th>positiveIncrease</th>\n",
       "      <th>deathIncrease</th>\n",
       "      <th>hospitalizedIncrease</th>\n",
       "    </tr>\n",
       "  </thead>\n",
       "  <tbody>\n",
       "    <tr>\n",
       "      <th>0</th>\n",
       "      <td>2020-10-16</td>\n",
       "      <td>AK</td>\n",
       "      <td>11576.0</td>\n",
       "      <td>59.0</td>\n",
       "      <td>NaN</td>\n",
       "      <td>NaN</td>\n",
       "      <td>NaN</td>\n",
       "      <td>8.0</td>\n",
       "      <td>NaN</td>\n",
       "      <td>A</td>\n",
       "      <td>66.0</td>\n",
       "      <td>02</td>\n",
       "      <td>228</td>\n",
       "      <td>1</td>\n",
       "      <td>0</td>\n",
       "    </tr>\n",
       "    <tr>\n",
       "      <th>1</th>\n",
       "      <td>2020-10-16</td>\n",
       "      <td>AL</td>\n",
       "      <td>170374.0</td>\n",
       "      <td>859.0</td>\n",
       "      <td>18855.0</td>\n",
       "      <td>NaN</td>\n",
       "      <td>1926.0</td>\n",
       "      <td>NaN</td>\n",
       "      <td>1099.0</td>\n",
       "      <td>A</td>\n",
       "      <td>2786.0</td>\n",
       "      <td>01</td>\n",
       "      <td>1212</td>\n",
       "      <td>30</td>\n",
       "      <td>220</td>\n",
       "    </tr>\n",
       "    <tr>\n",
       "      <th>2</th>\n",
       "      <td>2020-10-16</td>\n",
       "      <td>AR</td>\n",
       "      <td>97539.0</td>\n",
       "      <td>583.0</td>\n",
       "      <td>6243.0</td>\n",
       "      <td>238.0</td>\n",
       "      <td>NaN</td>\n",
       "      <td>101.0</td>\n",
       "      <td>764.0</td>\n",
       "      <td>A+</td>\n",
       "      <td>1665.0</td>\n",
       "      <td>05</td>\n",
       "      <td>1015</td>\n",
       "      <td>20</td>\n",
       "      <td>44</td>\n",
       "    </tr>\n",
       "    <tr>\n",
       "      <th>3</th>\n",
       "      <td>2020-10-16</td>\n",
       "      <td>AS</td>\n",
       "      <td>0.0</td>\n",
       "      <td>NaN</td>\n",
       "      <td>NaN</td>\n",
       "      <td>NaN</td>\n",
       "      <td>NaN</td>\n",
       "      <td>NaN</td>\n",
       "      <td>NaN</td>\n",
       "      <td>D</td>\n",
       "      <td>0.0</td>\n",
       "      <td>60</td>\n",
       "      <td>0</td>\n",
       "      <td>0</td>\n",
       "      <td>0</td>\n",
       "    </tr>\n",
       "    <tr>\n",
       "      <th>4</th>\n",
       "      <td>2020-10-16</td>\n",
       "      <td>AZ</td>\n",
       "      <td>229486.0</td>\n",
       "      <td>747.0</td>\n",
       "      <td>20491.0</td>\n",
       "      <td>167.0</td>\n",
       "      <td>NaN</td>\n",
       "      <td>79.0</td>\n",
       "      <td>NaN</td>\n",
       "      <td>A+</td>\n",
       "      <td>5806.0</td>\n",
       "      <td>04</td>\n",
       "      <td>738</td>\n",
       "      <td>17</td>\n",
       "      <td>29</td>\n",
       "    </tr>\n",
       "  </tbody>\n",
       "</table>\n",
       "</div>"
      ],
      "text/plain": [
       "        date state  positive  hospitalizedCurrently  hospitalizedCumulative  \\\n",
       "0 2020-10-16    AK   11576.0                   59.0                     NaN   \n",
       "1 2020-10-16    AL  170374.0                  859.0                 18855.0   \n",
       "2 2020-10-16    AR   97539.0                  583.0                  6243.0   \n",
       "3 2020-10-16    AS       0.0                    NaN                     NaN   \n",
       "4 2020-10-16    AZ  229486.0                  747.0                 20491.0   \n",
       "\n",
       "   inIcuCurrently  inIcuCumulative  onVentilatorCurrently  \\\n",
       "0             NaN              NaN                    8.0   \n",
       "1             NaN           1926.0                    NaN   \n",
       "2           238.0              NaN                  101.0   \n",
       "3             NaN              NaN                    NaN   \n",
       "4           167.0              NaN                   79.0   \n",
       "\n",
       "   onVentilatorCumulative dataQualityGrade   death fips  positiveIncrease  \\\n",
       "0                     NaN                A    66.0   02               228   \n",
       "1                  1099.0                A  2786.0   01              1212   \n",
       "2                   764.0               A+  1665.0   05              1015   \n",
       "3                     NaN                D     0.0   60                 0   \n",
       "4                     NaN               A+  5806.0   04               738   \n",
       "\n",
       "   deathIncrease  hospitalizedIncrease  \n",
       "0              1                     0  \n",
       "1             30                   220  \n",
       "2             20                    44  \n",
       "3              0                     0  \n",
       "4             17                    29  "
      ]
     },
     "execution_count": 16,
     "metadata": {},
     "output_type": "execute_result"
    }
   ],
>>>>>>> 7cc7d98b990828b2a2d46e49080426b4f20f7fee
   "source": [
    "# converting date-string format to date\n",
    "covid_df['date'] = pd.to_datetime(covid_df['date'], format='%Y%m%d')\n",
    "covid_df.head()"
   ]
  },
  {
   "cell_type": "markdown",
   "metadata": {},
   "source": [
    "### More Inspection"
   ]
  },
  {
   "cell_type": "code",
   "execution_count": null,
   "metadata": {},
   "outputs": [],
   "source": [
    "covid_df.info()"
   ]
  },
  {
   "cell_type": "code",
   "execution_count": null,
   "metadata": {
    "scrolled": true
   },
   "outputs": [],
   "source": [
    "# validating results by state and inspecting dates\n",
    "covid_df.groupby(['state']).agg({'positiveIncrease': 'sum', 'deathIncrease': 'sum', 'date': 'count', 'date': ['min', 'max']})\n",
    "# https://covid.cdc.gov/covid-data-tracker/#cases_casesinlast7days"
   ]
  },
  {
   "cell_type": "code",
   "execution_count": null,
   "metadata": {},
   "outputs": [],
   "source": [
    "# notice the count of dates is uneven, which is reflected by the start dates variation\n"
   ]
  },
  {
   "cell_type": "code",
   "execution_count": null,
   "metadata": {},
   "outputs": [],
   "source": [
    "# inspecting viz\n",
    "covid_viz = covid_df.set_index(['state', 'date']).sort_index()\n",
    "idx = pd.IndexSlice\n",
    "select_viz = covid_viz.loc[idx[['MN'], :], :]\n",
    "select_viz.positiveIncrease"
   ]
  },
  {
   "cell_type": "markdown",
   "metadata": {},
   "source": [
    "# note: we could slice dates based on variables defined by a slicer on the dashboard"
   ]
  },
  {
   "cell_type": "markdown",
   "metadata": {},
   "source": [
    "# Data Cleaning\n",
    "## state_pop_df"
   ]
  },
  {
   "cell_type": "code",
   "execution_count": null,
   "metadata": {},
   "outputs": [],
   "source": [
    "# inspecting columns\n",
    "state_pop_df.columns"
   ]
  },
  {
   "cell_type": "code",
   "execution_count": null,
   "metadata": {},
   "outputs": [],
   "source": [
    "state_pop_df.info()"
   ]
  },
  {
   "cell_type": "code",
   "execution_count": null,
   "metadata": {},
   "outputs": [],
   "source": [
    "# defining fips field from ID state. This new column will be used for merging\n",
    "state_pop_df['fips'] = state_pop_df['ID State'].str[-2:]"
   ]
  },
  {
   "cell_type": "code",
   "execution_count": null,
   "metadata": {},
   "outputs": [],
   "source": [
    "state_df = state_pop_df[['State', 'fips', 'Population']]\n",
    "state_df.head()"
   ]
  },
  {
   "cell_type": "markdown",
   "metadata": {},
   "source": [
    "# Merging Datasets"
   ]
  },
  {
   "cell_type": "code",
   "execution_count": null,
   "metadata": {},
   "outputs": [],
   "source": [
    "covid_df['fips'].unique()"
   ]
  },
  {
   "cell_type": "code",
   "execution_count": null,
   "metadata": {},
   "outputs": [],
   "source": [
    "covid_wpop = covid_df.merge(state_df, how='inner', on='fips')\n",
    "covid_wpop.head()"
   ]
  },
  {
   "cell_type": "code",
   "execution_count": null,
   "metadata": {},
   "outputs": [],
   "source": [
    "covid_wpop[covid_wpop.Population == 0]"
   ]
  },
  {
   "cell_type": "code",
   "execution_count": null,
   "metadata": {},
   "outputs": [],
   "source": [
    "covid_wpop.info()"
   ]
  },
  {
   "cell_type": "code",
   "execution_count": null,
   "metadata": {},
   "outputs": [],
   "source": [
    "display(covid_wpop['state'].nunique(), covid_df['state'].nunique())"
   ]
  },
  {
   "cell_type": "code",
   "execution_count": null,
   "metadata": {},
   "outputs": [],
   "source": [
    "display(covid_wpop['state'].unique(), covid_df['state'].unique())"
   ]
  },
  {
   "cell_type": "code",
   "execution_count": null,
   "metadata": {},
   "outputs": [],
   "source": [
    "# checking for omitted states: the result are US territories.\n",
    "omitted_states = []\n",
    "for i in covid_df['state'].unique():\n",
    "    if i not in covid_wpop['state'].unique():\n",
    "        omitted_states.append(i)\n",
    "omitted_states"
   ]
  },
  {
   "cell_type": "markdown",
   "metadata": {},
   "source": [
    "### Seven-day rolling average of new cases, by number of days since X average daily cases first recorded"
   ]
  },
  {
   "cell_type": "code",
   "execution_count": null,
   "metadata": {},
   "outputs": [],
   "source": [
    "covid_indexed = covid_wpop.set_index(['state']).sort_index().sort_values(['state', 'date'])"
   ]
  },
  {
   "cell_type": "code",
   "execution_count": null,
   "metadata": {},
   "outputs": [],
   "source": [
    "covid_rollavg = covid_indexed[['date', 'positive', 'positiveIncrease', 'death', 'deathIncrease']]"
   ]
  },
  {
   "cell_type": "code",
   "execution_count": null,
   "metadata": {},
<<<<<<< HEAD
   "outputs": [],
=======
   "outputs": [
    {
     "name": "stderr",
     "output_type": "stream",
     "text": [
      "C:\\Users\\Allan\\anaconda3\\envs\\NewPythonData\\lib\\site-packages\\ipykernel_launcher.py:1: SettingWithCopyWarning: \n",
      "A value is trying to be set on a copy of a slice from a DataFrame.\n",
      "Try using .loc[row_indexer,col_indexer] = value instead\n",
      "\n",
      "See the caveats in the documentation: https://pandas.pydata.org/pandas-docs/stable/user_guide/indexing.html#returning-a-view-versus-a-copy\n",
      "  \"\"\"Entry point for launching an IPython kernel.\n"
     ]
    },
    {
     "data": {
      "text/html": [
       "<div>\n",
       "<style scoped>\n",
       "    .dataframe tbody tr th:only-of-type {\n",
       "        vertical-align: middle;\n",
       "    }\n",
       "\n",
       "    .dataframe tbody tr th {\n",
       "        vertical-align: top;\n",
       "    }\n",
       "\n",
       "    .dataframe thead th {\n",
       "        text-align: right;\n",
       "    }\n",
       "</style>\n",
       "<table border=\"1\" class=\"dataframe\">\n",
       "  <thead>\n",
       "    <tr style=\"text-align: right;\">\n",
       "      <th></th>\n",
       "      <th>date</th>\n",
       "      <th>positive</th>\n",
       "      <th>positiveIncrease</th>\n",
       "      <th>death</th>\n",
       "      <th>deathIncrease</th>\n",
       "      <th>positiveRollingAvg</th>\n",
       "    </tr>\n",
       "    <tr>\n",
       "      <th>state</th>\n",
       "      <th></th>\n",
       "      <th></th>\n",
       "      <th></th>\n",
       "      <th></th>\n",
       "      <th></th>\n",
       "      <th></th>\n",
       "    </tr>\n",
       "  </thead>\n",
       "  <tbody>\n",
       "    <tr>\n",
       "      <th>AK</th>\n",
       "      <td>2020-03-06</td>\n",
       "      <td>0.0</td>\n",
       "      <td>0</td>\n",
       "      <td>0.0</td>\n",
       "      <td>0</td>\n",
       "      <td>NaN</td>\n",
       "    </tr>\n",
       "    <tr>\n",
       "      <th>AK</th>\n",
       "      <td>2020-03-07</td>\n",
       "      <td>0.0</td>\n",
       "      <td>0</td>\n",
       "      <td>0.0</td>\n",
       "      <td>0</td>\n",
       "      <td>NaN</td>\n",
       "    </tr>\n",
       "    <tr>\n",
       "      <th>AK</th>\n",
       "      <td>2020-03-08</td>\n",
       "      <td>0.0</td>\n",
       "      <td>0</td>\n",
       "      <td>0.0</td>\n",
       "      <td>0</td>\n",
       "      <td>NaN</td>\n",
       "    </tr>\n",
       "    <tr>\n",
       "      <th>AK</th>\n",
       "      <td>2020-03-09</td>\n",
       "      <td>0.0</td>\n",
       "      <td>0</td>\n",
       "      <td>0.0</td>\n",
       "      <td>0</td>\n",
       "      <td>NaN</td>\n",
       "    </tr>\n",
       "    <tr>\n",
       "      <th>AK</th>\n",
       "      <td>2020-03-10</td>\n",
       "      <td>0.0</td>\n",
       "      <td>0</td>\n",
       "      <td>0.0</td>\n",
       "      <td>0</td>\n",
       "      <td>NaN</td>\n",
       "    </tr>\n",
       "    <tr>\n",
       "      <th>...</th>\n",
       "      <td>...</td>\n",
       "      <td>...</td>\n",
       "      <td>...</td>\n",
       "      <td>...</td>\n",
       "      <td>...</td>\n",
       "      <td>...</td>\n",
       "    </tr>\n",
       "    <tr>\n",
       "      <th>WY</th>\n",
       "      <td>2020-10-12</td>\n",
       "      <td>7802.0</td>\n",
       "      <td>191</td>\n",
       "      <td>54.0</td>\n",
       "      <td>0</td>\n",
       "      <td>167.571429</td>\n",
       "    </tr>\n",
       "    <tr>\n",
       "      <th>WY</th>\n",
       "      <td>2020-10-13</td>\n",
       "      <td>7964.0</td>\n",
       "      <td>162</td>\n",
       "      <td>57.0</td>\n",
       "      <td>3</td>\n",
       "      <td>170.571429</td>\n",
       "    </tr>\n",
       "    <tr>\n",
       "      <th>WY</th>\n",
       "      <td>2020-10-14</td>\n",
       "      <td>8177.0</td>\n",
       "      <td>213</td>\n",
       "      <td>57.0</td>\n",
       "      <td>0</td>\n",
       "      <td>182.571429</td>\n",
       "    </tr>\n",
       "    <tr>\n",
       "      <th>WY</th>\n",
       "      <td>2020-10-15</td>\n",
       "      <td>8375.0</td>\n",
       "      <td>198</td>\n",
       "      <td>57.0</td>\n",
       "      <td>0</td>\n",
       "      <td>183.285714</td>\n",
       "    </tr>\n",
       "    <tr>\n",
       "      <th>WY</th>\n",
       "      <td>2020-10-16</td>\n",
       "      <td>8665.0</td>\n",
       "      <td>290</td>\n",
       "      <td>57.0</td>\n",
       "      <td>0</td>\n",
       "      <td>190.000000</td>\n",
       "    </tr>\n",
       "  </tbody>\n",
       "</table>\n",
       "<p>11849 rows × 6 columns</p>\n",
       "</div>"
      ],
      "text/plain": [
       "            date  positive  positiveIncrease  death  deathIncrease  \\\n",
       "state                                                                \n",
       "AK    2020-03-06       0.0                 0    0.0              0   \n",
       "AK    2020-03-07       0.0                 0    0.0              0   \n",
       "AK    2020-03-08       0.0                 0    0.0              0   \n",
       "AK    2020-03-09       0.0                 0    0.0              0   \n",
       "AK    2020-03-10       0.0                 0    0.0              0   \n",
       "...          ...       ...               ...    ...            ...   \n",
       "WY    2020-10-12    7802.0               191   54.0              0   \n",
       "WY    2020-10-13    7964.0               162   57.0              3   \n",
       "WY    2020-10-14    8177.0               213   57.0              0   \n",
       "WY    2020-10-15    8375.0               198   57.0              0   \n",
       "WY    2020-10-16    8665.0               290   57.0              0   \n",
       "\n",
       "       positiveRollingAvg  \n",
       "state                      \n",
       "AK                    NaN  \n",
       "AK                    NaN  \n",
       "AK                    NaN  \n",
       "AK                    NaN  \n",
       "AK                    NaN  \n",
       "...                   ...  \n",
       "WY             167.571429  \n",
       "WY             170.571429  \n",
       "WY             182.571429  \n",
       "WY             183.285714  \n",
       "WY             190.000000  \n",
       "\n",
       "[11849 rows x 6 columns]"
      ]
     },
     "execution_count": 34,
     "metadata": {},
     "output_type": "execute_result"
    }
   ],
>>>>>>> 7cc7d98b990828b2a2d46e49080426b4f20f7fee
   "source": [
    "covid_rollavg['positiveRollingAvg'] = covid_rollavg.groupby(level=0)['positiveIncrease'].rolling(window=7).mean().values\n",
    "covid_rollavg"
   ]
  },
  {
   "cell_type": "code",
   "execution_count": null,
   "metadata": {},
<<<<<<< HEAD
   "outputs": [],
=======
   "outputs": [
    {
     "name": "stderr",
     "output_type": "stream",
     "text": [
      "C:\\Users\\Allan\\anaconda3\\envs\\NewPythonData\\lib\\site-packages\\ipykernel_launcher.py:1: SettingWithCopyWarning: \n",
      "A value is trying to be set on a copy of a slice from a DataFrame.\n",
      "Try using .loc[row_indexer,col_indexer] = value instead\n",
      "\n",
      "See the caveats in the documentation: https://pandas.pydata.org/pandas-docs/stable/user_guide/indexing.html#returning-a-view-versus-a-copy\n",
      "  \"\"\"Entry point for launching an IPython kernel.\n"
     ]
    }
   ],
>>>>>>> 7cc7d98b990828b2a2d46e49080426b4f20f7fee
   "source": [
    "covid_rollavg['deathRollingAvg'] = covid_rollavg.groupby(level=0)['deathIncrease'].rolling(window=7).mean().values"
   ]
  },
  {
   "cell_type": "code",
   "execution_count": null,
   "metadata": {
    "scrolled": true
   },
   "outputs": [],
   "source": [
    "# new cases: looping to get the date >= threshold for each state\n",
    "state_list = covid_rollavg.index.get_level_values('state').unique()\n",
    "new_threshold = 10\n",
    "dates_new = []\n",
    "for i in state_list:\n",
    "    new_df = covid_rollavg.loc[i]\n",
    "    new_df = new_df.loc[new_df['positiveIncrease'] >= new_threshold]\n",
    "    date = new_df.iloc[0].date\n",
    "    dates_new.append(date)\n",
    "dates_new"
   ]
  },
  {
   "cell_type": "code",
   "execution_count": null,
   "metadata": {
    "scrolled": true
   },
   "outputs": [],
   "source": [
    "new_dict = dict(zip(state_list, dates_new))\n",
    "new_dict"
   ]
  },
  {
   "cell_type": "code",
   "execution_count": null,
   "metadata": {},
   "outputs": [],
   "source": [
    "covid_rollavg.head()"
   ]
  },
  {
   "cell_type": "code",
   "execution_count": null,
   "metadata": {},
   "outputs": [],
   "source": [
    "covid_rollavg.iloc[0].date"
   ]
  },
  {
   "cell_type": "code",
   "execution_count": null,
   "metadata": {},
   "outputs": [],
   "source": [
    "# deaths: looping to get the date >= threshold for each state\n",
    "death_threshold = 10\n",
    "dates_death = []\n",
    "for i in state_list:\n",
    "    death_df = covid_rollavg.loc[i]\n",
    "    death_df = death_df.loc[death_df['death'] >= death_threshold]\n",
    "    date_d = death_df.iloc[0].date\n",
    "    dates_death.append(date_d)\n",
    "dates_death"
   ]
  },
  {
   "cell_type": "code",
   "execution_count": null,
   "metadata": {},
   "outputs": [],
   "source": [
    "death_dict = dict(zip(state_list, dates_death))\n",
    "death_dict"
   ]
  },
  {
   "cell_type": "code",
   "execution_count": null,
   "metadata": {
    "scrolled": true
   },
   "outputs": [],
   "source": [
    "covid_rollavg.reset_index(inplace=True)"
   ]
  },
  {
   "cell_type": "code",
   "execution_count": null,
   "metadata": {},
<<<<<<< HEAD
   "outputs": [],
=======
   "outputs": [
    {
     "name": "stderr",
     "output_type": "stream",
     "text": [
      "C:\\Users\\Allan\\anaconda3\\envs\\NewPythonData\\lib\\site-packages\\ipykernel_launcher.py:1: SettingWithCopyWarning: \n",
      "A value is trying to be set on a copy of a slice from a DataFrame.\n",
      "Try using .loc[row_indexer,col_indexer] = value instead\n",
      "\n",
      "See the caveats in the documentation: https://pandas.pydata.org/pandas-docs/stable/user_guide/indexing.html#returning-a-view-versus-a-copy\n",
      "  \"\"\"Entry point for launching an IPython kernel.\n"
     ]
    }
   ],
>>>>>>> 7cc7d98b990828b2a2d46e49080426b4f20f7fee
   "source": [
    "covid_rollavg['new_datelapse'] = ''"
   ]
  },
  {
   "cell_type": "code",
   "execution_count": null,
   "metadata": {},
<<<<<<< HEAD
   "outputs": [],
=======
   "outputs": [
    {
     "name": "stderr",
     "output_type": "stream",
     "text": [
      "C:\\Users\\Allan\\anaconda3\\envs\\NewPythonData\\lib\\site-packages\\ipykernel_launcher.py:1: SettingWithCopyWarning: \n",
      "A value is trying to be set on a copy of a slice from a DataFrame.\n",
      "Try using .loc[row_indexer,col_indexer] = value instead\n",
      "\n",
      "See the caveats in the documentation: https://pandas.pydata.org/pandas-docs/stable/user_guide/indexing.html#returning-a-view-versus-a-copy\n",
      "  \"\"\"Entry point for launching an IPython kernel.\n"
     ]
    }
   ],
>>>>>>> 7cc7d98b990828b2a2d46e49080426b4f20f7fee
   "source": [
    "covid_rollavg['death_datelapse'] = ''"
   ]
  },
  {
   "cell_type": "code",
   "execution_count": null,
   "metadata": {},
<<<<<<< HEAD
   "outputs": [],
=======
   "outputs": [
    {
     "name": "stderr",
     "output_type": "stream",
     "text": [
      "C:\\Users\\Allan\\anaconda3\\envs\\NewPythonData\\lib\\site-packages\\pandas\\core\\indexing.py:966: SettingWithCopyWarning: \n",
      "A value is trying to be set on a copy of a slice from a DataFrame.\n",
      "Try using .loc[row_indexer,col_indexer] = value instead\n",
      "\n",
      "See the caveats in the documentation: https://pandas.pydata.org/pandas-docs/stable/user_guide/indexing.html#returning-a-view-versus-a-copy\n",
      "  self.obj[item] = s\n"
     ]
    }
   ],
>>>>>>> 7cc7d98b990828b2a2d46e49080426b4f20f7fee
   "source": [
    "# populating new_datelapse with the dete substraction for number of days since reaching the threshold\n",
    "for x in covid_rollavg.index:\n",
    "    covid_rollavg.iloc[x, 8] = covid_rollavg.iloc[x, 1] - new_dict[covid_rollavg.iloc[x, 0]]"
   ]
  },
  {
   "cell_type": "code",
   "execution_count": null,
   "metadata": {},
   "outputs": [],
   "source": [
    "# populating death_datelapse with the dete substraction for number of days since reaching the threshold\n",
    "for x in covid_rollavg.index:\n",
    "    covid_rollavg.iloc[x, 9] = covid_rollavg.iloc[x, 1] - death_dict[covid_rollavg.iloc[x, 0]]"
   ]
  },
  {
   "cell_type": "code",
   "execution_count": null,
   "metadata": {},
   "outputs": [],
   "source": [
    "covid_rollavg"
   ]
  },
  {
   "cell_type": "markdown",
   "metadata": {},
   "source": [
    "---"
   ]
  },
  {
   "cell_type": "markdown",
   "metadata": {},
   "source": [
    "## Map Viz DF"
   ]
  },
  {
   "cell_type": "code",
   "execution_count": null,
   "metadata": {},
   "outputs": [],
   "source": [
    "# call the latest available date for each state\n",
    "# latest_date = covid_wpop.date == covid_wpop.date.max() this works, but what if one of the states is not updated to the latest date?\n",
    "# need an alternative solution to call the last date, TBD in class\n",
    "latest_date = covid_wpop.date == covid_wpop.date.max()\n",
    "map_df = covid_wpop[latest_date]\n",
    "map_df"
   ]
  },
  {
   "cell_type": "code",
   "execution_count": null,
   "metadata": {},
   "outputs": [],
   "source": [
    "map_df.shape"
   ]
  },
  {
   "cell_type": "code",
   "execution_count": null,
   "metadata": {},
   "outputs": [],
   "source": [
    "map_df.columns"
   ]
  },
  {
   "cell_type": "code",
   "execution_count": null,
   "metadata": {},
   "outputs": [],
   "source": [
    "# reorganizing columns\n",
    "map_df = map_df[['date', 'State', 'state', 'Population', \n",
    "                 'positive', 'positiveIncrease', 'death', 'deathIncrease', \n",
    "                 'hospitalizedCurrently', 'hospitalizedIncrease', 'hospitalizedCumulative', \n",
    "                 'inIcuCurrently', 'inIcuCumulative', \n",
    "                 'onVentilatorCurrently', 'onVentilatorCumulative', \n",
    "                 'dataQualityGrade']]\n",
    "map_df.head()"
   ]
  },
  {
   "cell_type": "code",
   "execution_count": null,
   "metadata": {},
   "outputs": [],
   "source": [
    "map_df['positive_per_100K'] = (map_df['positive'] / (map_df['Population'] / 100000)).round(1)\n",
    "map_df['death_per_100K'] = (map_df['death'] / (map_df['Population'] / 100000)).round(1)\n",
    "map_df.head()"
   ]
  },
  {
   "cell_type": "code",
   "execution_count": 53,
   "metadata": {},
   "outputs": [],
   "source": [
    "# CASES AND DEATH LAST 7 DAYS?"
   ]
  },
  {
   "cell_type": "code",
   "execution_count": 54,
   "metadata": {},
   "outputs": [],
   "source": [
    "##### Emilio's Code Ends Here #####"
   ]
  },
  {
   "cell_type": "code",
   "execution_count": 55,
   "metadata": {},
   "outputs": [],
   "source": [
    "#### Allan's Code Starts ####"
   ]
  },
  {
   "cell_type": "code",
   "execution_count": null,
   "metadata": {},
   "outputs": [],
   "source": []
  },
  {
   "cell_type": "code",
   "execution_count": 56,
   "metadata": {},
   "outputs": [],
   "source": [
    "#### Allan's Code Ends #### "
   ]
  },
  {
   "cell_type": "code",
   "execution_count": 57,
   "metadata": {},
   "outputs": [],
   "source": [
    "#### Matt's Code Starts ####"
   ]
  },
  {
   "cell_type": "code",
   "execution_count": 58,
   "metadata": {},
   "outputs": [],
   "source": [
    "map_df = map_df.rename(columns={'state':'state_abbr', 'State':'state', 'Population':'population', 'positiveIncrease':'positive_increase', 'deathIncrease':'death_increase', 'hospitalizedCurrently':'hospitalized_currently', 'hospitalizedIncrease':'hospitalized_increase', 'hospitalizedCumulative':'hospitalized_cumulative', 'inIcuCurrently':'in_icu_currently', 'inIcuCumulative':'in_icu_cumulative','onVentilatorCurrently':'on_ventilator_currently', 'onVentilatorCumulative':'on_ventilator_cumulative','dataQualityGrade':'data_quality_grade', 'positive_per_100K':'positive_per_100k', 'death_per_100K':'death_per_100k'})"
   ]
  },
  {
   "cell_type": "code",
   "execution_count": 59,
   "metadata": {},
   "outputs": [
    {
     "data": {
      "text/plain": [
       "date                        datetime64[ns]\n",
       "state                               object\n",
       "state_abbr                          object\n",
       "population                           int64\n",
       "positive                           float64\n",
       "positive_increase                    int64\n",
       "death                              float64\n",
       "death_increase                       int64\n",
       "hospitalized_currently             float64\n",
       "hospitalized_increase                int64\n",
       "hospitalized_cumulative            float64\n",
       "in_icu_currently                   float64\n",
       "in_icu_cumulative                  float64\n",
       "on_ventilator_currently            float64\n",
       "on_ventilator_cumulative           float64\n",
       "data_quality_grade                  object\n",
       "positive_per_100k                  float64\n",
       "death_per_100k                     float64\n",
       "dtype: object"
      ]
     },
     "execution_count": 59,
     "metadata": {},
     "output_type": "execute_result"
    }
   ],
   "source": [
    "map_df = map_df.fillna(0)\n",
    "map_df.dtypes"
   ]
  },
  {
   "cell_type": "code",
   "execution_count": 60,
   "metadata": {},
   "outputs": [],
   "source": [
    "from config import password\n",
    "from sqlalchemy import create_engine"
   ]
  },
  {
   "cell_type": "code",
   "execution_count": 61,
   "metadata": {},
   "outputs": [],
   "source": [
    "rds_connection_string = \"postgres:\" + password + \"@localhost:5432/covid19_db\""
   ]
  },
  {
   "cell_type": "code",
   "execution_count": 62,
   "metadata": {},
   "outputs": [],
   "source": [
    "engine = create_engine(f'postgresql://{rds_connection_string}')"
   ]
  },
  {
   "cell_type": "code",
   "execution_count": 63,
   "metadata": {},
   "outputs": [],
   "source": [
    "map_df.to_sql(name='covid_data', con=engine, if_exists='replace', index=False)"
   ]
  },
  {
   "cell_type": "code",
   "execution_count": 64,
   "metadata": {},
   "outputs": [],
   "source": [
    "mapping_df = pd.read_sql_query('select * from covid_data', con=engine).head(15)"
   ]
  },
  {
   "cell_type": "code",
   "execution_count": 65,
   "metadata": {},
   "outputs": [],
   "source": [
    "#### Matt's Code Ends #### "
   ]
  },
  {
   "cell_type": "code",
   "execution_count": null,
   "metadata": {},
   "outputs": [],
   "source": []
  }
 ],
 "metadata": {
  "kernelspec": {
   "display_name": "Python 3",
   "language": "python",
   "name": "python3"
  },
  "language_info": {
   "codemirror_mode": {
    "name": "ipython",
    "version": 3
   },
   "file_extension": ".py",
   "mimetype": "text/x-python",
   "name": "python",
   "nbconvert_exporter": "python",
   "pygments_lexer": "ipython3",
   "version": "3.6.10"
  }
 },
 "nbformat": 4,
 "nbformat_minor": 4
}
