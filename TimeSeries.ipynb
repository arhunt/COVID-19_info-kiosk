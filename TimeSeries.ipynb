{
 "cells": [
  {
   "cell_type": "markdown",
   "metadata": {},
   "source": [
    "# Importing and Inspecting the Data"
   ]
  },
  {
   "cell_type": "code",
   "execution_count": null,
   "metadata": {},
   "outputs": [],
   "source": [
    "# import depedencies\n",
    "import requests as req\n",
    "import pandas as pd\n",
    "import datetime as dt\n",
    "import matplotlib.pyplot as plt\n",
    "import json"
   ]
  },
  {
   "cell_type": "code",
   "execution_count": null,
   "metadata": {},
   "outputs": [],
   "source": [
    "url_covid = 'https://api.covidtracking.com/v1/states/daily.json'\n",
    "# url_usa_population = 'https://datausa.io/api/data?drilldowns=Nation&measures=Population&year=latest'\n",
    "url_state_population = 'https://datausa.io/api/data?drilldowns=State&measures=Population&year=latest'"
   ]
  },
  {
   "cell_type": "code",
   "execution_count": null,
   "metadata": {},
   "outputs": [],
   "source": [
    "# retrieving API and storing data in variables\n",
    "covid_js = req.get(url_covid).json()\n",
    "# usa_pop_js = req.get(url_usa_population).json()\n",
    "state_pop_js = req.get(url_state_population).json()\n",
    "print(json.dumps(state_pop_js['data'], indent=4, sort_keys=True))"
   ]
  },
  {
   "cell_type": "code",
   "execution_count": null,
   "metadata": {},
   "outputs": [],
   "source": [
    "# converting the data to a dataframe for data manipulation and cleaning\n",
    "covid_all = pd.DataFrame(covid_js)\n",
    "# usa_pop_df = pd.DataFrame(usa_pop_js['data'])\n",
    "state_pop_df = pd.DataFrame(state_pop_js['data'])\n",
    "display(covid_all.head(), state_pop_df.head())"
   ]
  },
  {
   "cell_type": "code",
   "execution_count": null,
   "metadata": {},
   "outputs": [],
   "source": [
    "##### Emilio's Code Start Here #####"
   ]
  },
  {
   "cell_type": "code",
   "execution_count": null,
   "metadata": {},
   "outputs": [],
   "source": [
    "# state_pop_df['Population'].sum()"
   ]
  },
  {
   "cell_type": "code",
   "execution_count": null,
   "metadata": {},
   "outputs": [],
   "source": [
    "state_pop_df['State'].nunique()"
   ]
  },
  {
   "cell_type": "code",
   "execution_count": null,
   "metadata": {},
   "outputs": [],
   "source": [
    "state_pop_df['State'].unique()"
   ]
  },
  {
   "cell_type": "code",
   "execution_count": null,
   "metadata": {},
   "outputs": [],
   "source": [
    "# inspecting data\n",
    "display(covid_all.shape, state_pop_df.shape)"
   ]
  },
  {
   "cell_type": "code",
   "execution_count": null,
   "metadata": {},
   "outputs": [],
   "source": [
    "# inspecting data\n",
    "covid_all.describe()"
   ]
  },
  {
   "cell_type": "code",
   "execution_count": null,
   "metadata": {},
   "outputs": [],
   "source": [
    "# # inspecting data: fields (also by reviewing API documentation)\n",
    "covid_all.columns"
   ]
  },
  {
   "cell_type": "code",
   "execution_count": null,
   "metadata": {},
   "outputs": [],
   "source": [
    "# # inspecting data: data types\n",
    "covid_all.info()"
   ]
  },
  {
   "cell_type": "markdown",
   "metadata": {},
   "source": [
    "# Data Cleaning\n",
    "## covid_df\n",
    "#### Removing the following columns as they don't return required data, as well as deprecated fields reported in the documentation:"
   ]
  },
  {
   "cell_type": "code",
   "execution_count": null,
   "metadata": {},
   "outputs": [],
   "source": [
    "# list of fields: all, not-required, and deprecated fields\n",
    "all_fields = ['date', 'state', 'positive', 'probableCases', 'negative', 'pending',\n",
    "       'totalTestResults', 'hospitalizedCurrently', 'hospitalizedCumulative',\n",
    "       'inIcuCurrently', 'inIcuCumulative', 'onVentilatorCurrently',\n",
    "       'onVentilatorCumulative', 'recovered', 'dataQualityGrade',\n",
    "       'lastUpdateEt', 'dateModified', 'checkTimeEt', 'death', 'hospitalized',\n",
    "       'dateChecked', 'totalTestsViral', 'positiveTestsViral',\n",
    "       'negativeTestsViral', 'positiveCasesViral', 'deathConfirmed',\n",
    "       'deathProbable', 'totalTestEncountersViral', 'totalTestsPeopleViral',\n",
    "       'totalTestsAntibody', 'positiveTestsAntibody', 'negativeTestsAntibody',\n",
    "       'totalTestsPeopleAntibody', 'positiveTestsPeopleAntibody',\n",
    "       'negativeTestsPeopleAntibody', 'totalTestsPeopleAntigen',\n",
    "       'positiveTestsPeopleAntigen', 'totalTestsAntigen',\n",
    "       'positiveTestsAntigen', 'fips', 'positiveIncrease', 'negativeIncrease',\n",
    "       'total', 'totalTestResultsSource', 'totalTestResultsIncrease', 'posNeg',\n",
    "       'deathIncrease', 'hospitalizedIncrease', 'hash', 'commercialScore',\n",
    "       'negativeRegularScore', 'negativeScore', 'positiveScore', 'score',\n",
    "       'grade']\n",
    "deprecated_fields = ['checkTimeEt', 'commercialScore', 'dateChecked', 'dateModified', \n",
    "                     'grade', 'hash', 'hospitalized', 'negativeIncrease', \n",
    "                     'negativeRegularScore', 'negativeScore', 'posNeg', 'positiveScore', \n",
    "                     'score', 'total', 'totalTestResultsSource']\n",
    "non_required_fields = ['deathConfirmed', 'deathProbable', 'lastUpdateEt', \n",
    "                       'totalTestsViral', 'positiveTestsViral', 'negativeTestsViral', \n",
    "                       'positiveCasesViral', 'probableCases', 'negative', 'recovered',\n",
    "                       'pending', 'totalTestEncountersViral', 'totalTestsPeopleViral', \n",
    "                       'totalTestsAntibody', 'positiveTestsAntibody', 'negativeTestsAntibody',\n",
    "                       'totalTestsPeopleAntibody', 'positiveTestsPeopleAntibody',\n",
    "                       'negativeTestsPeopleAntibody', 'totalTestsPeopleAntigen', \n",
    "                       'positiveTestsPeopleAntigen','totalTestsAntigen', 'positiveTestsAntigen', \n",
    "                       'totalTestResultsIncrease', 'totalTestResults']"
   ]
  },
  {
   "cell_type": "code",
   "execution_count": null,
   "metadata": {},
   "outputs": [],
   "source": [
    "# removing deprecated and non-required fields to obtain the filtered list\n",
    "filtered_fields = []\n",
    "for i in all_fields:\n",
    "    if i not in deprecated_fields and i not in non_required_fields:\n",
    "        filtered_fields.append(i)\n",
    "filtered_fields"
   ]
  },
  {
   "cell_type": "code",
   "execution_count": null,
   "metadata": {},
   "outputs": [],
   "source": [
    "# new DF with the filtered fields\n",
    "covid_df = covid_all[filtered_fields]\n",
    "covid_df.head() # still think 23 columns is a lot to deal with for the prohect"
   ]
  },
  {
   "cell_type": "code",
   "execution_count": null,
   "metadata": {},
   "outputs": [],
   "source": [
    "# converting date-string format to date\n",
    "covid_df['date'] = pd.to_datetime(covid_df['date'], format='%Y%m%d')\n",
    "covid_df.head()"
   ]
  },
  {
   "cell_type": "markdown",
   "metadata": {},
   "source": [
    "### More Inspection"
   ]
  },
  {
   "cell_type": "code",
   "execution_count": null,
   "metadata": {},
   "outputs": [],
   "source": [
    "covid_df.info()"
   ]
  },
  {
   "cell_type": "code",
   "execution_count": null,
   "metadata": {
    "scrolled": true
   },
   "outputs": [],
   "source": [
    "# validating results by state and inspecting dates\n",
    "covid_df.groupby(['state']).agg({'positiveIncrease': 'sum', 'deathIncrease': 'sum', 'date': 'count', 'date': ['min', 'max']})\n",
    "# https://covid.cdc.gov/covid-data-tracker/#cases_casesinlast7days"
   ]
  },
  {
   "cell_type": "code",
   "execution_count": null,
   "metadata": {},
   "outputs": [],
   "source": [
    "# notice the count of dates is uneven, which is reflected by the start dates variation\n"
   ]
  },
  {
   "cell_type": "code",
   "execution_count": null,
   "metadata": {},
   "outputs": [],
   "source": [
    "# inspecting viz\n",
    "covid_viz = covid_df.set_index(['state', 'date']).sort_index()\n",
    "idx = pd.IndexSlice\n",
    "select_viz = covid_viz.loc[idx[['MN'], :], :]\n",
    "select_viz.positiveIncrease"
   ]
  },
  {
   "cell_type": "markdown",
   "metadata": {},
   "source": [
    "# note: we could slice dates based on variables defined by a slicer on the dashboard"
   ]
  },
  {
   "cell_type": "markdown",
   "metadata": {},
   "source": [
    "# Data Cleaning\n",
    "## state_pop_df"
   ]
  },
  {
   "cell_type": "code",
   "execution_count": null,
   "metadata": {},
   "outputs": [],
   "source": [
    "# inspecting columns\n",
    "state_pop_df.columns"
   ]
  },
  {
   "cell_type": "code",
   "execution_count": null,
   "metadata": {},
   "outputs": [],
   "source": [
    "state_pop_df.info()"
   ]
  },
  {
   "cell_type": "code",
   "execution_count": null,
   "metadata": {},
   "outputs": [],
   "source": [
    "# defining fips field from ID state. This new column will be used for merging\n",
    "state_pop_df['fips'] = state_pop_df['ID State'].str[-2:]"
   ]
  },
  {
   "cell_type": "code",
   "execution_count": null,
   "metadata": {},
   "outputs": [],
   "source": [
    "state_df = state_pop_df[['State', 'fips', 'Population']]\n",
    "state_df.head()"
   ]
  },
  {
   "cell_type": "markdown",
   "metadata": {},
   "source": [
    "# Merging Datasets"
   ]
  },
  {
   "cell_type": "code",
   "execution_count": null,
   "metadata": {},
   "outputs": [],
   "source": [
    "covid_df['fips'].unique()"
   ]
  },
  {
   "cell_type": "code",
   "execution_count": null,
   "metadata": {},
   "outputs": [],
   "source": [
    "covid_wpop = covid_df.merge(state_df, how='inner', on='fips')\n",
    "covid_wpop.head()"
   ]
  },
  {
   "cell_type": "code",
   "execution_count": null,
   "metadata": {},
   "outputs": [],
   "source": [
    "covid_wpop[covid_wpop.Population == 0]"
   ]
  },
  {
   "cell_type": "code",
   "execution_count": null,
   "metadata": {},
   "outputs": [],
   "source": [
    "covid_wpop.info()"
   ]
  },
  {
   "cell_type": "code",
   "execution_count": null,
   "metadata": {},
   "outputs": [],
   "source": [
    "display(covid_wpop['state'].nunique(), covid_df['state'].nunique())"
   ]
  },
  {
   "cell_type": "code",
   "execution_count": null,
   "metadata": {},
   "outputs": [],
   "source": [
    "display(covid_wpop['state'].unique(), covid_df['state'].unique())"
   ]
  },
  {
   "cell_type": "code",
   "execution_count": null,
   "metadata": {},
   "outputs": [],
   "source": [
    "# checking for omitted states: the result are US territories.\n",
    "omitted_states = []\n",
    "for i in covid_df['state'].unique():\n",
    "    if i not in covid_wpop['state'].unique():\n",
    "        omitted_states.append(i)\n",
    "omitted_states"
   ]
  },
  {
   "cell_type": "markdown",
   "metadata": {},
   "source": [
    "### Seven-day rolling average of new cases, by number of days since X average daily cases first recorded"
   ]
  },
  {
   "cell_type": "code",
   "execution_count": null,
   "metadata": {},
   "outputs": [],
   "source": [
    "covid_indexed = covid_wpop.set_index(['state']).sort_index().sort_values(['state', 'date'])"
   ]
  },
  {
   "cell_type": "code",
   "execution_count": null,
   "metadata": {},
   "outputs": [],
   "source": [
    "covid_rollavg = covid_indexed[['date', 'positive', 'positiveIncrease', 'death', 'deathIncrease']]"
   ]
  },
  {
   "cell_type": "code",
   "execution_count": null,
   "metadata": {},
   "outputs": [],
   "source": [
    "covid_rollavg['positiveRollingAvg'] = covid_rollavg.groupby(level=0)['positiveIncrease'].rolling(window=7).mean().values\n",
    "covid_rollavg"
   ]
  },
  {
   "cell_type": "code",
   "execution_count": null,
   "metadata": {},
   "outputs": [],
   "source": [
    "covid_rollavg['deathRollingAvg'] = covid_rollavg.groupby(level=0)['deathIncrease'].rolling(window=7).mean().values"
   ]
  },
  {
   "cell_type": "code",
   "execution_count": null,
   "metadata": {
    "scrolled": true
   },
   "outputs": [],
   "source": [
    "# new cases: looping to get the date >= threshold for each state\n",
    "state_list = covid_rollavg.index.get_level_values('state').unique()\n",
    "new_threshold = 10\n",
    "dates_new = []\n",
    "for i in state_list:\n",
    "    new_df = covid_rollavg.loc[i]\n",
    "    new_df = new_df.loc[new_df['positiveIncrease'] >= new_threshold]\n",
    "    date = new_df.iloc[0].date\n",
    "    dates_new.append(date)\n",
    "dates_new"
   ]
  },
  {
   "cell_type": "code",
   "execution_count": null,
   "metadata": {
    "scrolled": true
   },
   "outputs": [],
   "source": [
    "new_dict = dict(zip(state_list, dates_new))\n",
    "new_dict"
   ]
  },
  {
   "cell_type": "code",
   "execution_count": null,
   "metadata": {},
   "outputs": [],
   "source": [
    "covid_rollavg.head()"
   ]
  },
  {
   "cell_type": "code",
   "execution_count": null,
   "metadata": {},
   "outputs": [],
   "source": [
    "covid_rollavg.iloc[0].date"
   ]
  },
  {
   "cell_type": "code",
   "execution_count": null,
   "metadata": {},
   "outputs": [],
   "source": [
    "# deaths: looping to get the date >= threshold for each state\n",
    "death_threshold = 10\n",
    "dates_death = []\n",
    "for i in state_list:\n",
    "    death_df = covid_rollavg.loc[i]\n",
    "    death_df = death_df.loc[death_df['death'] >= death_threshold]\n",
    "    date_d = death_df.iloc[0].date\n",
    "    dates_death.append(date_d)\n",
    "dates_death"
   ]
  },
  {
   "cell_type": "code",
   "execution_count": null,
   "metadata": {},
   "outputs": [],
   "source": [
    "death_dict = dict(zip(state_list, dates_death))\n",
    "death_dict"
   ]
  },
  {
   "cell_type": "code",
   "execution_count": null,
   "metadata": {
    "scrolled": true
   },
   "outputs": [],
   "source": [
    "covid_rollavg.reset_index(inplace=True)"
   ]
  },
  {
   "cell_type": "code",
   "execution_count": null,
   "metadata": {},
   "outputs": [],
   "source": [
    "covid_rollavg['new_datelapse'] = ''"
   ]
  },
  {
   "cell_type": "code",
   "execution_count": null,
   "metadata": {},
   "outputs": [],
   "source": [
    "covid_rollavg['death_datelapse'] = ''"
   ]
  },
  {
   "cell_type": "code",
   "execution_count": null,
   "metadata": {},
   "outputs": [],
   "source": [
    "# populating new_datelapse with the dete substraction for number of days since reaching the threshold\n",
    "for x in covid_rollavg.index:\n",
    "    covid_rollavg.iloc[x, 8] = (covid_rollavg.iloc[x, 1] - new_dict[covid_rollavg.iloc[x, 0]]).days"
   ]
  },
  {
   "cell_type": "code",
   "execution_count": null,
   "metadata": {},
   "outputs": [],
   "source": [
    "# populating death_datelapse with the dete substraction for number of days since reaching the threshold\n",
    "for x in covid_rollavg.index:\n",
    "    covid_rollavg.iloc[x, 9] = (covid_rollavg.iloc[x, 1] - death_dict[covid_rollavg.iloc[x, 0]]).days"
   ]
  },
  {
   "cell_type": "code",
   "execution_count": null,
   "metadata": {},
   "outputs": [],
   "source": [
    "covid_rollavg['new_datelapse'] = pd.to_numeric(covid_rollavg['new_datelapse'], errors='coerce')\n"
   ]
  },
  {
   "cell_type": "code",
   "execution_count": null,
   "metadata": {
    "scrolled": true
   },
   "outputs": [],
   "source": [
    "covid_rollavg['death_datelapse'] = pd.to_numeric(covid_rollavg['death_datelapse'], errors='coerce')"
   ]
  },
  {
   "cell_type": "code",
   "execution_count": null,
   "metadata": {},
   "outputs": [],
   "source": [
    "covid_rollavg.dtypes"
   ]
  },
  {
   "cell_type": "markdown",
   "metadata": {},
   "source": [
    "---"
   ]
  },
  {
   "cell_type": "markdown",
   "metadata": {},
   "source": [
    "## Map Viz DF"
   ]
  },
  {
   "cell_type": "code",
   "execution_count": null,
   "metadata": {},
   "outputs": [],
   "source": [
    "# call the latest available date for each state\n",
    "# latest_date = covid_wpop.date == covid_wpop.date.max() this works, but what if one of the states is not updated to the latest date?\n",
    "# need an alternative solution to call the last date, TBD in class\n",
    "latest_date = covid_wpop.date == covid_wpop.date.max()\n",
    "map_df = covid_wpop[latest_date]\n",
    "map_df"
   ]
  },
  {
   "cell_type": "code",
   "execution_count": null,
   "metadata": {},
   "outputs": [],
   "source": [
    "map_df.shape"
   ]
  },
  {
   "cell_type": "code",
   "execution_count": null,
   "metadata": {},
   "outputs": [],
   "source": [
    "map_df.columns"
   ]
  },
  {
   "cell_type": "code",
   "execution_count": null,
   "metadata": {},
   "outputs": [],
   "source": [
    "# reorganizing columns\n",
    "map_df = map_df[['date', 'State', 'state', 'Population', \n",
    "                 'positive', 'positiveIncrease', 'death', 'deathIncrease', \n",
    "                 'hospitalizedCurrently', 'hospitalizedIncrease', 'hospitalizedCumulative', \n",
    "                 'inIcuCurrently', 'inIcuCumulative', \n",
    "                 'onVentilatorCurrently', 'onVentilatorCumulative', \n",
    "                 'dataQualityGrade']]\n",
    "map_df.head()"
   ]
  },
  {
   "cell_type": "code",
   "execution_count": null,
   "metadata": {},
   "outputs": [],
   "source": [
    "map_df['positive_per_100K'] = (map_df['positive'] / (map_df['Population'] / 100000)).round(1)\n",
    "map_df['death_per_100K'] = (map_df['death'] / (map_df['Population'] / 100000)).round(1)\n",
    "map_df.head()"
   ]
  },
  {
   "cell_type": "code",
   "execution_count": null,
   "metadata": {},
   "outputs": [],
   "source": [
    "# CASES AND DEATH LAST 7 DAYS?"
   ]
  },
  {
   "cell_type": "code",
   "execution_count": null,
   "metadata": {},
   "outputs": [],
   "source": [
    "##### Emilio's Code Ends Here #####"
   ]
  },
  {
   "cell_type": "code",
   "execution_count": null,
   "metadata": {},
   "outputs": [],
   "source": [
    "#### Allan's Code Starts ####"
   ]
  },
  {
   "cell_type": "code",
   "execution_count": null,
   "metadata": {},
   "outputs": [],
   "source": []
  },
  {
   "cell_type": "code",
   "execution_count": null,
   "metadata": {},
   "outputs": [],
   "source": [
    "#### Allan's Code Ends #### "
   ]
  },
  {
   "cell_type": "code",
   "execution_count": null,
   "metadata": {},
   "outputs": [],
   "source": [
    "#### Matt's Code Starts ####"
   ]
  },
  {
   "cell_type": "code",
   "execution_count": null,
   "metadata": {},
   "outputs": [],
   "source": [
    "#### Matt's Code Ends #### "
   ]
  }
 ],
 "metadata": {
  "kernelspec": {
   "display_name": "Python 3",
   "language": "python",
   "name": "python3"
  },
  "language_info": {
   "codemirror_mode": {
    "name": "ipython",
    "version": 3
   },
   "file_extension": ".py",
   "mimetype": "text/x-python",
   "name": "python",
   "nbconvert_exporter": "python",
   "pygments_lexer": "ipython3",
   "version": "3.6.10"
  }
 },
 "nbformat": 4,
 "nbformat_minor": 4
}
